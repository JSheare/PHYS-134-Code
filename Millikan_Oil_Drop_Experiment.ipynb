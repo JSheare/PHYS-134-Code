{
 "cells": [
  {
   "cell_type": "code",
   "execution_count": 1,
   "id": "493176a4",
   "metadata": {},
   "outputs": [],
   "source": [
    "### Imports:\n",
    "\n",
    "import numpy as np\n",
    "import matplotlib.pyplot as plt\n",
    "plt.rcParams[\"figure.figsize\"] = 8, 8\n",
    "import scipy as sp\n",
    "import scipy.optimize\n",
    "import scipy.stats as stat\n",
    "import pandas as pd"
   ]
  },
  {
   "cell_type": "code",
   "execution_count": 2,
   "id": "4aaf6567",
   "metadata": {},
   "outputs": [],
   "source": [
    "### Notes\n",
    "# spacer thickness = 7.53 ± 0.01 mm\n",
    "# 2.131 ± 0.001 megaohms -> 22 degrees celsius \n",
    "# .5  ± 0.05 kV high voltage"
   ]
  },
  {
   "cell_type": "code",
   "execution_count": 3,
   "id": "35d25121",
   "metadata": {},
   "outputs": [],
   "source": [
    "### Parameters \n",
    "\n",
    "e_lit = -1.602176634e-19\n",
    "nu_o = 1.824e-5 # N-s/m^2 Viscosity of air, uncorrected for radius\n",
    "g = 9.8 # m/s^2 Acceleration of gravity\n",
    "rho = 886 # kg/m^3 Density of oil droplet\n",
    "b = 8.20e-3 #N/m Viscosity correction factor\n",
    "p = 1.013e+5 #N/m^2 pressure\n",
    "v = 500 #volts\n",
    "d = 7.53e-3\n",
    "sigma_d = 0.01e-3\n"
   ]
  },
  {
   "cell_type": "code",
   "execution_count": 4,
   "id": "bce185bf",
   "metadata": {},
   "outputs": [
    {
     "name": "stdout",
     "output_type": "stream",
     "text": [
      "0.0027280528999999998 ± 6.9853022023293e-05 mm/pixel\n",
      "2.7280528999999996e-06 ± 6.9853022023293e-08 m/pixel\n"
     ]
    }
   ],
   "source": [
    "### Pixels to mm and m\n",
    "\n",
    "pix_per_mm_0 = 0.0028266711\n",
    "pix_per_mm_1 = 0.0026737433\n",
    "pix_per_mm_2 = 0.0026837443\n",
    "pix_per_mm_mu = np.mean([pix_per_mm_0,pix_per_mm_1,pix_per_mm_2])\n",
    "pix_per_mm_sigma = np.std([pix_per_mm_0,pix_per_mm_1,pix_per_mm_2])\n",
    "print(f'{pix_per_mm_mu} ± {pix_per_mm_sigma} mm/pixel')\n",
    "\n",
    "pix_per_m_mu = pix_per_mm_mu/1000\n",
    "pix_per_m_sigma = pix_per_mm_sigma/1000\n",
    "print (f'{pix_per_m_mu} ± {pix_per_m_sigma} m/pixel')\n"
   ]
  },
  {
   "cell_type": "code",
   "execution_count": 5,
   "id": "cd473337",
   "metadata": {},
   "outputs": [],
   "source": [
    "### importing csv file \n",
    "\n",
    "velocities = pd.read_csv(\"velocities.csv\")\n",
    "# print (velocities)\n",
    "v_f = velocities[\"v_f\"]\n",
    "sigma_vf = velocities[\"sigma_v_f\"]\n",
    "v_E = velocities[\"v_E\"]\n",
    "sigma_v_E = velocities[\"sigma_v_E\"]\n"
   ]
  },
  {
   "cell_type": "code",
   "execution_count": 6,
   "id": "b5965dd8",
   "metadata": {},
   "outputs": [
    {
     "name": "stdout",
     "output_type": "stream",
     "text": [
      "0     7.886684e-08\n",
      "1     7.990642e-08\n",
      "2     8.749271e-08\n",
      "3     5.134793e-08\n",
      "4     1.229473e-07\n",
      "5     1.243473e-07\n",
      "6     2.175232e-07\n",
      "7     2.017183e-07\n",
      "8     1.950081e-07\n",
      "9     9.178445e-08\n",
      "10    1.020731e-07\n",
      "11    1.095515e-07\n",
      "12    4.221068e-08\n",
      "13    6.139432e-08\n",
      "14    5.930987e-08\n",
      "15    8.947630e-08\n",
      "16    9.634949e-08\n",
      "17    9.568063e-08\n",
      "18    1.075192e-07\n",
      "19    1.004263e-07\n",
      "20    1.124026e-07\n",
      "21    1.458442e-07\n",
      "22    1.418996e-07\n",
      "23    1.462608e-07\n",
      "24    7.423360e-08\n",
      "25    6.155587e-08\n",
      "26    6.830745e-08\n",
      "Name: v_f, dtype: float64\n",
      "0     1.550040e-09\n",
      "1     7.659127e-09\n",
      "2     1.384631e-09\n",
      "3     4.290160e-09\n",
      "4     3.257235e-09\n",
      "5     1.755998e-09\n",
      "6     1.271998e-08\n",
      "7     3.436430e-09\n",
      "8     2.859412e-09\n",
      "9     1.598525e-09\n",
      "10    1.360018e-09\n",
      "11    1.692758e-09\n",
      "12    3.161766e-09\n",
      "13    7.274493e-10\n",
      "14    8.362694e-10\n",
      "15    1.542748e-09\n",
      "16    1.027757e-09\n",
      "17    4.645745e-09\n",
      "18    1.583006e-09\n",
      "19    5.053232e-09\n",
      "20    1.695650e-09\n",
      "21    2.019270e-09\n",
      "22    1.544083e-09\n",
      "23    2.030280e-09\n",
      "24    9.235507e-10\n",
      "25    1.260352e-09\n",
      "26    1.057998e-09\n",
      "dtype: float64\n"
     ]
    }
   ],
   "source": [
    "### Calculating droplet radius and uncertainties \n",
    "\n",
    "def droplet_radius(v):\n",
    "    alpha = b/(2*p) \n",
    "    gamma = (9*nu_o)/(2*rho*g)\n",
    "    a = np.sqrt(alpha**2 + gamma*v) - alpha\n",
    "    return a\n",
    " \n",
    "def droplet_radius_sigma(v, sigma_v):\n",
    "    alpha = b/(2*p)\n",
    "    gamma = (9*nu_o)/(2*rho*g)\n",
    "    sigma_a = np.sqrt((gamma*sigma_v)**2/(4*(alpha**2 + gamma*v)))\n",
    "    return sigma_a\n",
    "\n",
    "radius = droplet_radius(v_f)\n",
    "sigma_radius = droplet_radius_sigma(v_f, sigma_vf)\n",
    "\n",
    "print (radius)\n",
    "print (sigma_radius)"
   ]
  },
  {
   "cell_type": "code",
   "execution_count": 7,
   "id": "78834610",
   "metadata": {},
   "outputs": [
    {
     "name": "stdout",
     "output_type": "stream",
     "text": [
      "0    -2.158453e-19\n",
      "1    -6.971721e-19\n",
      "2    -3.674402e-18\n",
      "3    -4.129336e-19\n",
      "4    -1.097768e-18\n",
      "5    -1.090541e-18\n",
      "6    -1.335879e-18\n",
      "7    -1.157279e-18\n",
      "8    -8.599392e-19\n",
      "9    -8.525980e-19\n",
      "10   -3.575961e-19\n",
      "11   -3.928635e-19\n",
      "12   -2.999087e-19\n",
      "13   -2.632081e-19\n",
      "14   -3.738283e-19\n",
      "15   -1.544324e-19\n",
      "16   -3.634372e-19\n",
      "17   -3.496805e-19\n",
      "18   -5.244623e-19\n",
      "19   -4.657973e-19\n",
      "20   -1.919030e-19\n",
      "21   -1.164926e-18\n",
      "22   -1.236056e-18\n",
      "23   -9.610124e-19\n",
      "24   -4.647941e-19\n",
      "25   -2.056665e-19\n",
      "26   -5.547523e-19\n",
      "dtype: float64\n",
      "0     2.167959e-20\n",
      "1     2.243343e-19\n",
      "2     2.745649e-19\n",
      "3     1.162724e-19\n",
      "4     1.077694e-19\n",
      "5     6.734908e-20\n",
      "6     2.479564e-19\n",
      "7     6.622888e-20\n",
      "8     4.196631e-20\n",
      "9     6.997027e-20\n",
      "10    1.980007e-20\n",
      "11    2.228231e-20\n",
      "12    7.592455e-20\n",
      "13    1.484030e-20\n",
      "14    3.133146e-20\n",
      "15    9.033510e-21\n",
      "16    1.585487e-20\n",
      "17    5.678354e-20\n",
      "18    3.401859e-20\n",
      "19    8.051331e-20\n",
      "20    9.538283e-21\n",
      "21    6.586105e-20\n",
      "22    7.037854e-20\n",
      "23    5.200464e-20\n",
      "24    2.724409e-20\n",
      "25    1.554703e-20\n",
      "26    3.685038e-20\n",
      "dtype: float64\n"
     ]
    }
   ],
   "source": [
    "### Calculating the droplet charge and uncertainties \n",
    "\n",
    "def droplet_charge(a, v_y0, v_e):\n",
    "    phi = (4*np.pi*rho*g)/(3*v)\n",
    "    q = phi * a**3 * d *((v_e/v_y0)-1)\n",
    "    return q\n",
    "\n",
    "def droplet_charge_sigma(a, sigma_a, v_y0, sigma_v_y0, v_e, sigma_v_e, sigma_d):\n",
    "    phi = (4 * np.pi * rho * g)/(3 * v)\n",
    "    term1 = 3 * sigma_a * phi * (a**2) * d * ((v_e/v_y0) - 1)\n",
    "    term2 = phi * sigma_d * (a**3) * ((v_e/v_y0) - 1)\n",
    "    term3 = sigma_v_e * phi * (a**3) * d * ((1/v_y0) - 1)\n",
    "    term4 = sigma_v_y0 * phi * (a**3) * d * ((v_e/v_y0**2) + 1)\n",
    "    sigma_q = np.sqrt(term1**2 + term2**2 + term3**2 + term4**2)\n",
    "    return sigma_q\n",
    "\n",
    "charge = droplet_charge(radius, v_f, v_E) * 100 # can't explain where a factor of 100 is missing, but it is\n",
    "sigma_charge = droplet_charge_sigma(radius, sigma_radius, v_f, sigma_vf, v_E, sigma_v_E, sigma_d) * 100\n",
    "\n",
    "print (charge)\n",
    "print (sigma_charge)"
   ]
  },
  {
   "cell_type": "code",
   "execution_count": 8,
   "id": "b8728f53",
   "metadata": {},
   "outputs": [
    {
     "name": "stdout",
     "output_type": "stream",
     "text": [
      "charge differences: [-4.81326786e-19 -2.97722958e-18 -6.84834393e-19 -7.22701126e-21\n",
      " -1.78599725e-19 -2.97340127e-19 -4.95001945e-19 -3.52673714e-20\n",
      " -3.67006404e-20 -1.10620240e-19 -2.09004818e-19 -1.37566755e-20\n",
      " -5.86650177e-20 -2.73894322e-19 -7.11309398e-20 -2.75044058e-19\n",
      " -2.59127571e-19 -3.49085772e-19]\n",
      "Integers: [ 3. 18.  4.  0.  1.  1.  3.  0.  0.  0.  1.  0.  0.  1.  0.  1.  1.  2.]\n",
      "Final e value = -1.662536718433729e-19 ± 8.223729609963159e-21\n",
      "Z score =  0.7339745747550124\n",
      "CDF =  0.7685178829533825\n",
      "two tailed p-value =  0.46296423409323495\n"
     ]
    },
    {
     "data": {
      "image/png": "[encoded data removed]",
      "text/plain": [
       "<Figure size 576x576 with 1 Axes>"
      ]
     },
     "metadata": {
      "needs_background": "light"
     },
     "output_type": "display_data"
    },
    {
     "data": {
      "image/png": "[encoded data removed]",
      "text/plain": [
       "<Figure size 576x576 with 1 Axes>"
      ]
     },
     "metadata": {
      "needs_background": "light"
     },
     "output_type": "display_data"
    },
    {
     "data": {
      "image/png": "[encoded data removed]",
      "text/plain": [
       "<Figure size 576x576 with 1 Axes>"
      ]
     },
     "metadata": {
      "needs_background": "light"
     },
     "output_type": "display_data"
    }
   ],
   "source": [
    "### calculating charge differences\n",
    "\n",
    "startindex = 0\n",
    "stopindex = 1\n",
    "q_diff = np.array([])\n",
    "sigma_q_diff = np.array ([])\n",
    "n = np.array([])\n",
    "for i in range (int(len(charge)/3)):\n",
    "    for j in range(2):\n",
    "        diff = -np.abs(charge[stopindex] - charge[startindex])\n",
    "        sigma_diff = np.sqrt(sigma_charge[stopindex]**2 + sigma_charge[startindex]**2)\n",
    "        if diff%e_lit >= 0.5:\n",
    "            integer = diff//e_lit + 1\n",
    "        else:\n",
    "            integer = diff//e_lit\n",
    "        q_diff = np.append(q_diff, diff)\n",
    "        sigma_q_diff = np.append(sigma_q_diff, sigma_diff)\n",
    "        n = np.append(n, integer)\n",
    "        startindex += 1\n",
    "        stopindex += 1\n",
    "    startindex += 1\n",
    "    stopindex += 1\n",
    "n = np.abs(n)\n",
    "print (f'charge differences: {q_diff}')\n",
    "print (f'Integers: {n}')\n",
    "    \n",
    "# calculating the e-values\n",
    "\n",
    "e_values = np.array([])\n",
    "sigma_e_values = np.array([])\n",
    "for i_i, n_i in enumerate(n):\n",
    "    if n_i>0:\n",
    "        e_values = np.append(e_values, q_diff[i_i]/n_i)\n",
    "        sigma_e_values = np.append(sigma_e_values, sigma_q_diff[i_i]/n_i)\n",
    "    else:\n",
    "        e_values = np.append(e_values, q_diff[i_i])\n",
    "        sigma_e_values = np.append(sigma_e_values, sigma_q_diff[i_i])\n",
    "\n",
    "# calculating the final e-value\n",
    "\n",
    "e_final = np.sum(e_values/(sigma_e_values**2))/np.sum(1/(sigma_e_values**2))\n",
    "sigma_e_final = 1/np.sqrt(np.sum(1/(sigma_e_values**2)))\n",
    "print (f'Final e value = {e_final} ± {sigma_e_final}')\n",
    "\n",
    "Zscore = (e_lit - e_final)/sigma_e_final\n",
    "print('Z score = ',Zscore)\n",
    "cdf = scipy.stats.norm.cdf(Zscore,0,1)\n",
    "print (\"CDF = \",cdf)\n",
    "if cdf>0.5:\n",
    "    pvalue_2t = 2*(1-cdf)\n",
    "else :\n",
    "    pvalue_2t=2*(cdf)\n",
    "print (\"two tailed p-value = \",pvalue_2t)\n",
    "\n",
    "#///////////////////////////\n",
    "#PLOTTING                 //\n",
    "#///////////////////////////\n",
    "\n",
    "fig1 = plt.figure()\n",
    "fig2 = plt.figure()\n",
    "ax1 = fig1.add_subplot(111)\n",
    "ax2 = fig2.add_subplot(111)\n",
    "fig3, ax3 = plt.subplots()\n",
    "sigma_list = np.array([])\n",
    "mu = e_final\n",
    "sigma = sigma_e_final\n",
    "for i in range(-5,5):\n",
    "    sigma_list= np.append(sigma_list, mu+i*sigma)\n",
    " #np.mean(G) #Mean of Experimental Value\n",
    "x = np.linspace(mu - 5*sigma, mu + 5*sigma, 100)\n",
    "y = scipy.stats.norm.pdf(x, mu, sigma) # BELL CURVE\n",
    "ax3.plot(x, y, color='red', linewidth=3)\n",
    "ymin, ymax = ax3.get_ylim()\n",
    "ax3.vlines(e_lit, ymin=0, ymax=np.interp(e_lit,x,y))\n",
    "ax3.vlines(mu, ymin=0, ymax=np.interp(mu,x,y), color='purple', alpha=0.7, linewidth=2, label='$\\mu$')\n",
    "ax3.vlines(sigma_list, ymin=0, ymax=np.interp(sigma_list,x,y), color='green', alpha=0.5, linewidth=1, label='$\\sigma$ from the mean')\n",
    "x_fill = np.linspace(mu - 5*sigma, e_lit, 100)\n",
    "y_fill = scipy.stats.norm.pdf(x_fill,mu,sigma)\n",
    "ax3.fill_between(x_fill,y_fill,0, alpha=0.5, color='blue', label='Two tailed p-value')\n",
    "ax3.set_xlabel('Electron Charge units / $Coulomb$')\n",
    "ax3.legend(loc='best', fontsize=14)\n",
    "\n",
    "\n",
    "\n",
    "# y,binEdges = np.histogram(e_values,bins=100)\n",
    "ax2.hist(e_values, bins=100)#, weights=1/sigma_q_diff) # FIND RIGHT NUMBER OF BINS\n",
    "ax2.axvline(e_lit, color='C2', label=\"Literature Value\")\n",
    "ax1.scatter(e_values, range(0,len(e_values)))\n",
    "ax1.errorbar(e_values, range(0,len(e_values)), xerr=sigma_e_values, capsize=4, ecolor='C3', elinewidth=0.5, markeredgewidth=0.5,ls='None')\n",
    "ax1.set_yticks(range(0,len(e_values)))\n",
    "# ax1.scatter(-charge, range(0,len(charge)))\n",
    "# ax1.errorbar(-sigma_charge, range(0,len(charge)), capsize=4, ecolor='C3', elinewidth=0.5, markeredgewidth=0.5,ls='None')\n",
    "ax1.axvline(e_lit, label=\"Literature Value\", color='C2')\n",
    "# ax1.set_title('Weighted E Value Histogram')\n",
    "plt.show()\n",
    "fig1.savefig('millikan_scatter.png', bbox_inches='tight')\n",
    "fig2.savefig('millikan_hist.png', bbox_inches='tight')\n",
    "fig3.savefig('millikan_bellcurve.png', bbox_inches='tight')"
   ]
  },
  {
   "cell_type": "code",
   "execution_count": 9,
   "id": "ce910ecd",
   "metadata": {},
   "outputs": [
    {
     "name": "stdout",
     "output_type": "stream",
     "text": [
      "-4.813267858299617e-19 ± 2.253794116707445e-19 and integer 3.0\n",
      "-2.9772295759721316e-18 ± 3.5455854435209236e-19 and integer 18.0\n",
      "-6.848343927052843e-19 ± 1.5853549286324614e-19 and integer 4.0\n",
      "-7.227011256406248e-21 ± 1.2708317543529447e-19 and integer 0.0\n",
      "-1.7859972474014696e-19 ± 2.566488694738353e-19 and integer 1.0\n",
      "-2.9734012674566387e-19 ± 7.84055847197295e-20 and integer 1.0\n",
      "-4.950019450300293e-19 ± 7.271782197994094e-20 and integer 3.0\n",
      "-3.526737140404705e-20 ± 2.98084577013683e-20 and integer 0.0\n",
      "-3.6700640401682034e-20 ± 7.736130841760805e-20 and integer 0.0\n",
      "-1.1062023996976994e-19 ± 3.4668350378578036e-20 and integer 0.0\n",
      "-2.0900481805298483e-19 ± 1.82477717227436e-20 and integer 1.0\n",
      "-1.3756675528749265e-20 ± 5.895546744128197e-20 and integer 0.0\n",
      "-5.866501772749957e-20 ± 8.740513212768371e-20 and integer 0.0\n",
      "-2.738943222163474e-19 ± 8.10763306710799e-20 and integer 1.0\n",
      "-7.113093979485181e-20 ± 9.638888275199003e-20 and integer 0.0\n",
      "-2.750440584375788e-19 ± 8.75078317464797e-20 and integer 1.0\n",
      "-2.5912757093554866e-19 ± 3.136798241770548e-20 and integer 1.0\n",
      "-3.490857719500487e-19 ± 3.999575288490611e-20 and integer 2.0\n"
     ]
    }
   ],
   "source": [
    "for h in range(len(q_diff)): \n",
    "    print (f'{q_diff[h]} ± {sigma_q_diff[h]} and integer {n[h]}')"
   ]
  },
  {
   "cell_type": "code",
   "execution_count": null,
   "id": "2d6330e4",
   "metadata": {},
   "outputs": [],
   "source": []
  }
 ],
 "metadata": {
  "kernelspec": {
   "display_name": "Python 3 (ipykernel)",
   "language": "python",
   "name": "python3"
  },
  "language_info": {
   "codemirror_mode": {
    "name": "ipython",
    "version": 3
   },
   "file_extension": ".py",
   "mimetype": "text/x-python",
   "name": "python",
   "nbconvert_exporter": "python",
   "pygments_lexer": "ipython3",
   "version": "3.9.7"
  }
 },
 "nbformat": 4,
 "nbformat_minor": 5
}
